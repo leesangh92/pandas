{
  "nbformat": 4,
  "nbformat_minor": 0,
  "metadata": {
    "colab": {
      "name": "python_for_data_analysis.ipynb",
      "provenance": [],
      "collapsed_sections": [],
      "mount_file_id": "1HvXzaQPxyDdIryuN4P62h77I-dErUVRi",
      "authorship_tag": "ABX9TyPyr8cDzBOcwhGivGZEppgC",
      "include_colab_link": true
    },
    "kernelspec": {
      "name": "python3",
      "display_name": "Python 3"
    },
    "language_info": {
      "name": "python"
    }
  },
  "cells": [
    {
      "cell_type": "markdown",
      "metadata": {
        "id": "view-in-github",
        "colab_type": "text"
      },
      "source": [
        "<a href=\"https://colab.research.google.com/github/leesangh92/pandas/blob/main/python_for_data_analysis.ipynb\" target=\"_parent\"><img src=\"https://colab.research.google.com/assets/colab-badge.svg\" alt=\"Open In Colab\"/></a>"
      ]
    },
    {
      "cell_type": "code",
      "metadata": {
        "colab": {
          "base_uri": "https://localhost:8080/"
        },
        "id": "mWMKhXfWv44C",
        "outputId": "f4b787f8-c268-4cd5-b48a-b0f8b0c20999"
      },
      "source": [
        "cd drive/MyDrive/pydata-book-2nd-edition/"
      ],
      "execution_count": null,
      "outputs": [
        {
          "output_type": "stream",
          "text": [
            "/content/drive/MyDrive/pydata-book-2nd-edition\n"
          ],
          "name": "stdout"
        }
      ]
    },
    {
      "cell_type": "code",
      "metadata": {
        "id": "9SfDIPWkwNcu"
      },
      "source": [
        ""
      ],
      "execution_count": null,
      "outputs": []
    }
  ]
}